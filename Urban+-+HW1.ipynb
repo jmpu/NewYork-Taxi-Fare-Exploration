{
 "cells": [
  {
   "cell_type": "code",
   "execution_count": 16,
   "metadata": {
    "collapsed": true
   },
   "outputs": [],
   "source": [
    "import csv\n",
    "import pandas as pd\n",
    "import random\n",
    "import numpy as np\n",
    "import math\n",
    "import datetime\n",
    "import matplotlib.pyplot as plt\n",
    "from sklearn.model_selection import cross_val_score\n",
    "from sklearn.model_selection import cross_val_predict\n",
    "from sklearn import linear_model\n",
    "import statistics\n",
    "from sklearn import neighbors\n",
    "from sklearn.neighbors imporhttp://localhost:8888/notebooks/Urban%20-%20HW1.ipynb#t KNeighborsRegressor\n",
    "from sklearn.metrics import mean_squared_error\n",
    "from sklearn.neighbors import KNeighborsClassifier\n",
    "from sklearn import metrics\n",
    "from sklearn.tree import DecisionTreeClassifier"
   ]
  },
  {
   "cell_type": "code",
   "execution_count": 17,
   "metadata": {},
   "outputs": [
    {
     "data": {
      "text/html": [
       "<div>\n",
       "<style>\n",
       "    .dataframe thead tr:only-child th {\n",
       "        text-align: right;\n",
       "    }\n",
       "\n",
       "    .dataframe thead th {\n",
       "        text-align: left;\n",
       "    }\n",
       "\n",
       "    .dataframe tbody tr th {\n",
       "        vertical-align: top;\n",
       "    }\n",
       "</style>\n",
       "<table border=\"1\" class=\"dataframe\">\n",
       "  <thead>\n",
       "    <tr style=\"text-align: right;\">\n",
       "      <th></th>\n",
       "      <th>VendorID</th>\n",
       "      <th>tpep_pickup_datetime</th>\n",
       "      <th>tpep_dropoff_datetime</th>\n",
       "      <th>passenger_count</th>\n",
       "      <th>trip_distance</th>\n",
       "      <th>RatecodeID</th>\n",
       "      <th>store_and_fwd_flag</th>\n",
       "      <th>PULocationID</th>\n",
       "      <th>DOLocationID</th>\n",
       "      <th>payment_type</th>\n",
       "      <th>fare_amount</th>\n",
       "      <th>extra</th>\n",
       "      <th>mta_tax</th>\n",
       "      <th>tip_amount</th>\n",
       "      <th>tolls_amount</th>\n",
       "      <th>improvement_surcharge</th>\n",
       "      <th>total_amount</th>\n",
       "    </tr>\n",
       "  </thead>\n",
       "  <tbody>\n",
       "    <tr>\n",
       "      <th>0</th>\n",
       "      <td>2</td>\n",
       "      <td>2017-02-03 02:03:50</td>\n",
       "      <td>2017-02-03 02:20:55</td>\n",
       "      <td>1</td>\n",
       "      <td>3.29</td>\n",
       "      <td>1</td>\n",
       "      <td>N</td>\n",
       "      <td>87</td>\n",
       "      <td>246</td>\n",
       "      <td>1</td>\n",
       "      <td>14.0</td>\n",
       "      <td>0.0</td>\n",
       "      <td>0.5</td>\n",
       "      <td>1.50</td>\n",
       "      <td>0.0</td>\n",
       "      <td>0.3</td>\n",
       "      <td>16.30</td>\n",
       "    </tr>\n",
       "    <tr>\n",
       "      <th>1</th>\n",
       "      <td>2</td>\n",
       "      <td>2017-02-03 02:26:04</td>\n",
       "      <td>2017-02-03 02:46:47</td>\n",
       "      <td>1</td>\n",
       "      <td>2.80</td>\n",
       "      <td>1</td>\n",
       "      <td>N</td>\n",
       "      <td>68</td>\n",
       "      <td>239</td>\n",
       "      <td>2</td>\n",
       "      <td>15.0</td>\n",
       "      <td>0.0</td>\n",
       "      <td>0.5</td>\n",
       "      <td>0.00</td>\n",
       "      <td>0.0</td>\n",
       "      <td>0.3</td>\n",
       "      <td>15.80</td>\n",
       "    </tr>\n",
       "    <tr>\n",
       "      <th>2</th>\n",
       "      <td>2</td>\n",
       "      <td>2017-02-03 02:49:51</td>\n",
       "      <td>2017-02-03 09:56:17</td>\n",
       "      <td>1</td>\n",
       "      <td>0.90</td>\n",
       "      <td>1</td>\n",
       "      <td>N</td>\n",
       "      <td>239</td>\n",
       "      <td>43</td>\n",
       "      <td>1</td>\n",
       "      <td>6.0</td>\n",
       "      <td>0.0</td>\n",
       "      <td>0.5</td>\n",
       "      <td>1.36</td>\n",
       "      <td>0.0</td>\n",
       "      <td>0.3</td>\n",
       "      <td>8.16</td>\n",
       "    </tr>\n",
       "    <tr>\n",
       "      <th>3</th>\n",
       "      <td>2</td>\n",
       "      <td>2017-02-03 04:41:54</td>\n",
       "      <td>2017-02-03 04:52:41</td>\n",
       "      <td>1</td>\n",
       "      <td>0.72</td>\n",
       "      <td>1</td>\n",
       "      <td>N</td>\n",
       "      <td>163</td>\n",
       "      <td>230</td>\n",
       "      <td>1</td>\n",
       "      <td>8.0</td>\n",
       "      <td>0.0</td>\n",
       "      <td>0.5</td>\n",
       "      <td>1.76</td>\n",
       "      <td>0.0</td>\n",
       "      <td>0.3</td>\n",
       "      <td>10.56</td>\n",
       "    </tr>\n",
       "    <tr>\n",
       "      <th>4</th>\n",
       "      <td>2</td>\n",
       "      <td>2017-02-03 04:57:38</td>\n",
       "      <td>2017-02-03 12:16:14</td>\n",
       "      <td>1</td>\n",
       "      <td>1.10</td>\n",
       "      <td>1</td>\n",
       "      <td>N</td>\n",
       "      <td>186</td>\n",
       "      <td>230</td>\n",
       "      <td>1</td>\n",
       "      <td>11.0</td>\n",
       "      <td>0.0</td>\n",
       "      <td>0.5</td>\n",
       "      <td>3.54</td>\n",
       "      <td>0.0</td>\n",
       "      <td>0.3</td>\n",
       "      <td>15.34</td>\n",
       "    </tr>\n",
       "  </tbody>\n",
       "</table>\n",
       "</div>"
      ],
      "text/plain": [
       "   VendorID tpep_pickup_datetime tpep_dropoff_datetime  passenger_count  \\\n",
       "0         2  2017-02-03 02:03:50   2017-02-03 02:20:55                1   \n",
       "1         2  2017-02-03 02:26:04   2017-02-03 02:46:47                1   \n",
       "2         2  2017-02-03 02:49:51   2017-02-03 09:56:17                1   \n",
       "3         2  2017-02-03 04:41:54   2017-02-03 04:52:41                1   \n",
       "4         2  2017-02-03 04:57:38   2017-02-03 12:16:14                1   \n",
       "\n",
       "   trip_distance  RatecodeID store_and_fwd_flag  PULocationID  DOLocationID  \\\n",
       "0           3.29           1                  N            87           246   \n",
       "1           2.80           1                  N            68           239   \n",
       "2           0.90           1                  N           239            43   \n",
       "3           0.72           1                  N           163           230   \n",
       "4           1.10           1                  N           186           230   \n",
       "\n",
       "   payment_type  fare_amount  extra  mta_tax  tip_amount  tolls_amount  \\\n",
       "0             1         14.0    0.0      0.5        1.50           0.0   \n",
       "1             2         15.0    0.0      0.5        0.00           0.0   \n",
       "2             1          6.0    0.0      0.5        1.36           0.0   \n",
       "3             1          8.0    0.0      0.5        1.76           0.0   \n",
       "4             1         11.0    0.0      0.5        3.54           0.0   \n",
       "\n",
       "   improvement_surcharge  total_amount  \n",
       "0                    0.3         16.30  \n",
       "1                    0.3         15.80  \n",
       "2                    0.3          8.16  \n",
       "3                    0.3         10.56  \n",
       "4                    0.3         15.34  "
      ]
     },
     "execution_count": 17,
     "metadata": {},
     "output_type": "execute_result"
    }
   ],
   "source": [
    "data = pd.read_csv(\"yellow_tripdata_2017-02.csv\")\n",
    "# list first few rows (datapoints)\n",
    "data.head()"
   ]
  },
  {
   "cell_type": "markdown",
   "metadata": {},
   "source": [
    "**Randomly sample 10,000 trip records to solve the Problems 2 and 3. Choose specific dataframe columns to do processing.**"
   ]
  },
  {
   "cell_type": "code",
   "execution_count": 18,
   "metadata": {},
   "outputs": [
    {
     "name": "stdout",
     "output_type": "stream",
     "text": [
      "(10000, 17)\n",
      "<class 'pandas.core.series.Series'>\n"
     ]
    }
   ],
   "source": [
    "dfSample = data.sample(10000)\n",
    "print(dfSample.shape)\n",
    "tip = dfSample['tip_amount']\n",
    "print(type(tip))\n",
    "fare = dfSample['fare_amount']\n",
    "timestamp = dfSample['tpep_pickup_datetime']\n",
    "paytype = dfSample['payment_type']"
   ]
  },
  {
   "cell_type": "markdown",
   "metadata": {},
   "source": [
    "**The dataset has several different payment types. Convert the ‘payment_type’ to categorical data: \"Payment_type_cat1, Payment_type_cat2, …\".**"
   ]
  },
  {
   "cell_type": "code",
   "execution_count": 19,
   "metadata": {},
   "outputs": [
    {
     "name": "stdout",
     "output_type": "stream",
     "text": [
      "4\n"
     ]
    }
   ],
   "source": [
    "paytype_num = np.max(paytype)\n",
    "print(paytype_num)\n",
    "d = {}\n",
    "for i in range(1, paytype_num + 1):\n",
    "\td['payment_type_cat' + str(i)] = [0] * 10000"
   ]
  },
  {
   "cell_type": "markdown",
   "metadata": {},
   "source": [
    "**Create new features by iterating through the whole dataframe. To convert the ‘tpep_pickup_datetime’ to day (for 1) or night (for 0), I just manually set 6:00 to 19:00 as Daytime.**"
   ]
  },
  {
   "cell_type": "code",
   "execution_count": 20,
   "metadata": {},
   "outputs": [
    {
     "name": "stderr",
     "output_type": "stream",
     "text": [
      "/Users/pujm/anaconda3/lib/python3.6/site-packages/ipykernel_launcher.py:6: RuntimeWarning: divide by zero encountered in double_scalars\n",
      "  \n"
     ]
    }
   ],
   "source": [
    "tip_rate=[]\n",
    "dayornight = []\n",
    "count = 0\n",
    "# https://stackoverflow.com/questions/1060090/changing-variable-names-with-python-for-loops?lq=1\n",
    "for idx, row in dfSample.iterrows():\n",
    "\ttip_rate.append(1 if tip[idx]/fare[idx] > 0.2 else 0)\n",
    "\tfor i in range(1, paytype_num + 1):\n",
    "\t\tif paytype[idx] == i:\n",
    "\t\t\td['payment_type_cat' + str(i)][count] = 1 \n",
    "\tcount += 1\n",
    "\t# print(timestamp[idx])\n",
    "    #      \n",
    "\tdayornight.append(1 if int(timestamp[idx][11:13]) < 19 and int(timestamp[idx][11:13]) >= 6 else 0)"
   ]
  },
  {
   "cell_type": "markdown",
   "metadata": {},
   "source": [
    "**Assign new columns to dataframe.**"
   ]
  },
  {
   "cell_type": "code",
   "execution_count": 21,
   "metadata": {
    "collapsed": true
   },
   "outputs": [],
   "source": [
    "dfSample=dfSample.assign(tip_rate_20 = tip_rate, DayorNight = dayornight)\n",
    "for i in range(1, paytype_num + 1):\n",
    "\t# print(d['payment_type_cat' + str(i)])\n",
    "\tdfSample['payment_type_cat' + str(i)] = d['payment_type_cat' + str(i)]"
   ]
  },
  {
   "cell_type": "markdown",
   "metadata": {},
   "source": [
    "**Create a dataset with the following attributes.**"
   ]
  },
  {
   "cell_type": "code",
   "execution_count": 22,
   "metadata": {
    "collapsed": true
   },
   "outputs": [],
   "source": [
    "dfP1 = dfSample.filter(items = ['VendorID', 'DayorNight', 'passenger_count', 'trip_distance', 'PULocationID', 'DOLocationID', \n",
    "\t'tip_amount','fare_amount', 'tip_rate_20', 'payment_type'])\n",
    "dfP2 = dfSample.filter(regex = '^payment_type_cat[0-9]$')\n",
    "# print(dfP2)\n",
    "frames = [dfP1, dfP2]\n",
    "\n",
    "result = pd.concat(frames, axis=1)\n",
    "result.to_csv(\"processed_trip_data.csv\")"
   ]
  },
  {
   "cell_type": "markdown",
   "metadata": {},
   "source": [
    "**Plot the distribution of the Fare_amounts and Tip_amounts.**"
   ]
  },
  {
   "cell_type": "code",
   "execution_count": 23,
   "metadata": {},
   "outputs": [
    {
     "data": {
      "image/png": "[encoded data removed]",
      "text/plain": [
       "<matplotlib.figure.Figure at 0x1a166ab0b8>"
      ]
     },
     "metadata": {},
     "output_type": "display_data"
    }
   ],
   "source": [
    "x = tip.values\n",
    "y = fare.values\n",
    "plt.scatter(x.tolist(), y.tolist(), s = 5)\n",
    "plt.xlabel(\"tip amount\")\n",
    "plt.ylabel(\"fare amount\")\n",
    "plt.title(\"tip & fare Distribution\")\n",
    "plt.show()"
   ]
  },
  {
   "cell_type": "markdown",
   "metadata": {},
   "source": [
    "## Problem 2: Trip fare amount prediction."
   ]
  },
  {
   "cell_type": "markdown",
   "metadata": {},
   "source": [
    "**Training dataset preparation.**"
   ]
  },
  {
   "cell_type": "code",
   "execution_count": 24,
   "metadata": {},
   "outputs": [
    {
     "name": "stdout",
     "output_type": "stream",
     "text": [
      "(10000, 5)\n",
      "(10000, 4)\n",
      "(10000, 9)\n",
      "(10000,)\n"
     ]
    }
   ],
   "source": [
    "data = pd.read_csv(\"processed_trip_data.csv\")\n",
    "\n",
    "def get_input_matrix(df):\n",
    "\tdf1 = df.filter(items = ['DayorNight', 'passenger_count', 'trip_distance', 'PULocationID', 'DOLocationID'])\n",
    "\tdf2 = df.filter(regex = '^payment_type_cat[0-9]$')\n",
    "\tprint(df1.shape)\n",
    "\tprint(df2.shape)\n",
    "\tframes = [df1, df2]\n",
    "\treturn pd.concat(frames, axis=1)\n",
    "\n",
    "def get_output_matrix(df):\n",
    "\treturn df['fare_amount']\n",
    "\n",
    "taxi_X_train = get_input_matrix(data)\n",
    "taxi_Y_train = get_output_matrix(data)\n",
    "print(taxi_X_train.shape)\n",
    "print(taxi_Y_train.shape)"
   ]
  },
  {
   "cell_type": "markdown",
   "metadata": {},
   "source": [
    "### Linear Regression - MSE Report"
   ]
  },
  {
   "cell_type": "code",
   "execution_count": 25,
   "metadata": {},
   "outputs": [
    {
     "name": "stdout",
     "output_type": "stream",
     "text": [
      "MSE scores for 5 folds:  [26.463124038914071, 13.308088643073297, 36.243227524051257, 21.333198745239482, 8.9987997709235028]\n",
      "Averaged MSE score - [LinearRegression]:  21.2692877444\n",
      "Standard Deviation of MSE scores for 5 folds - [LinearRegression]: 9.64514861299\n"
     ]
    }
   ],
   "source": [
    "lr = linear_model.LinearRegression()\n",
    "\n",
    "# Here we use cross_val_score for cross validation, set scoring as 'neg_mean_squared_error',\n",
    "# So that we can obtain scores which are actually negative MSE for each fold.\n",
    "# By using -np.mean(scores) and np.std(scores), we obtain the averaged MSE and its std for all 5 folds.\n",
    "scores = cross_val_score(lr, taxi_X_train, taxi_Y_train, scoring = 'neg_mean_squared_error',cv=5)\n",
    "print(\"MSE scores for 5 folds: \", [-score for score in scores])\n",
    "print(\"Averaged MSE score - [LinearRegression]: \", - np.mean(scores))\n",
    "std_score = np.std(scores)\n",
    "print(\"Standard Deviation of MSE scores for 5 folds - [LinearRegression]:\", std_score)"
   ]
  },
  {
   "cell_type": "markdown",
   "metadata": {},
   "source": [
    "### KNN Regression - MSE Report"
   ]
  },
  {
   "cell_type": "code",
   "execution_count": 26,
   "metadata": {},
   "outputs": [
    {
     "name": "stdout",
     "output_type": "stream",
     "text": [
      "The opitimal K value for the KNN regression model:  2 , which obtains minimum mse score:  29.1698144875\n",
      "Averaged MSE score - [KNN regression]:  29.1698144875\n",
      "Standard Deviation of MSE scores for 5 folds - [KNN regression]: 8.49597040327\n"
     ]
    }
   ],
   "source": [
    "# Use a for loop to iterate through k from 1 to 10, \n",
    "# choose the k that obtains the minimum MEAN SQUARE ERROR, which indicates the best model.\n",
    "mse_min = 0; k = 0\n",
    "for i in range(1, 11):\n",
    "\tneigh = KNeighborsRegressor(n_neighbors=i)\n",
    "\tscores = cross_val_score(neigh, taxi_X_train, taxi_Y_train, scoring = 'neg_mean_squared_error', cv=5)\n",
    "\tmean_score = - np.mean(scores)\n",
    "\tif mse_min == 0 or mse_min > mean_score:\n",
    "\t\tmse_min = mean_score\n",
    "\t\tk = i\n",
    "print(\"The opitimal K value for the KNN regression model: \", k, \", which obtains minimum mse score: \", mse_min)\n",
    "\n",
    "\n",
    "neigh = KNeighborsRegressor(n_neighbors=2)\n",
    "scores = cross_val_score(neigh, taxi_X_train, taxi_Y_train, scoring = 'neg_mean_squared_error', cv=5)\n",
    "mean_score = - np.mean(scores)\n",
    "print(\"Averaged MSE score - [KNN regression]: \", mean_score)\n",
    "std_score = np.std(scores)\n",
    "print(\"Standard Deviation of MSE scores for 5 folds - [KNN regression]:\", std_score)"
   ]
  },
  {
   "cell_type": "markdown",
   "metadata": {},
   "source": [
    "#### In general, Linear regression works better than KNN regression for this task, because linear regression tends to get lower MSE score than KNN.  For KNN regression, the optimal K value tends to be 2 though I sample different data every time."
   ]
  },
  {
   "cell_type": "markdown",
   "metadata": {},
   "source": [
    "## Problem 3. Tip rate classification."
   ]
  },
  {
   "cell_type": "markdown",
   "metadata": {},
   "source": [
    "** 1. Sample 1000 trip records from your data, Use KNN model to predict the Tip_rate_20.<br>\n",
    "Training data preparation. Use attribute b, c, d, h as input features, use attribute k as class labels. **"
   ]
  },
  {
   "cell_type": "code",
   "execution_count": 27,
   "metadata": {},
   "outputs": [],
   "source": [
    "# Sample 1000 data\n",
    "data = pd.read_csv(\"processed_trip_data.csv\")\n",
    "data = data.sample(1000)\n",
    "\n",
    "# Use attribute b, c, d, h as input features for KNN model\n",
    "def get_input_matrix_knn(df):\n",
    "\tdf1 = df.filter(items = ['DayorNight', 'passenger_count', 'trip_distance'])\n",
    "\tdf2 = df.filter(regex = '^payment_type_cat[0-9]$')  \n",
    "\tprint(df1.shape)\n",
    "\tprint(df2.shape)\n",
    "\tframes = [df1, df2]\n",
    "\treturn pd.concat(frames, axis=1)\n",
    "\n",
    "# Use attribute k as class labels.\n",
    "def get_output_matrix(df):\n",
    "\treturn df['tip_rate_20']\n",
    "\n",
    "# Build decision tree with attribute b, c, d, g.\n",
    "def get_input_matrix_dt(df):\n",
    "\treturn df.filter(items = ['DayorNight', 'passenger_count', 'payment_type', 'trip_distance'])"
   ]
  },
  {
   "cell_type": "markdown",
   "metadata": {},
   "source": [
    "**KNN Model:<br>\n",
    "Use Euclidean distance;<br> \n",
    "Run 5-fold cross validation to evaluate your model; <br>\n",
    "Report precision, recall and F-score of the classification.**"
   ]
  },
  {
   "cell_type": "code",
   "execution_count": 28,
   "metadata": {},
   "outputs": [
    {
     "name": "stdout",
     "output_type": "stream",
     "text": [
      "(1000, 3)\n",
      "(1000, 4)\n",
      "             precision    recall  f1-score   support\n",
      "\n",
      "          0       0.68      0.80      0.74       423\n",
      "          1       0.83      0.72      0.77       577\n",
      "\n",
      "avg / total       0.77      0.76      0.76      1000\n",
      "\n"
     ]
    }
   ],
   "source": [
    "# KNN\n",
    "taxi_X_train_knn = get_input_matrix_knn(data)\n",
    "taxi_Y_train = get_output_matrix(data)\n",
    "\n",
    "\n",
    "Kneigh = KNeighborsClassifier(n_neighbors=5, p=2)\n",
    "predicted = cross_val_predict(Kneigh, taxi_X_train_knn, taxi_Y_train, cv=5)\n",
    "print(metrics.classification_report(predicted, taxi_Y_train))"
   ]
  },
  {
   "cell_type": "markdown",
   "metadata": {},
   "source": [
    "**2. Use Decision Tree to predict the Tip_rate_20.<br>\n",
    " For trip distance, calculate the average and use it as the threshold to create conditions --- I set trip_distance as 0 if the trip_distance is less than the average, otherwise as 1.**\n"
   ]
  },
  {
   "cell_type": "code",
   "execution_count": 35,
   "metadata": {},
   "outputs": [
    {
     "name": "stderr",
     "output_type": "stream",
     "text": [
      "/Users/pujm/anaconda3/lib/python3.6/site-packages/ipykernel_launcher.py:10: SettingWithCopyWarning: \n",
      "A value is trying to be set on a copy of a slice from a DataFrame\n",
      "\n",
      "See the caveats in the documentation: http://pandas.pydata.org/pandas-docs/stable/indexing.html#indexing-view-versus-copy\n",
      "  # Remove the CWD from sys.path while we load stuff.\n",
      "/Users/pujm/anaconda3/lib/python3.6/site-packages/ipykernel_launcher.py:7: SettingWithCopyWarning: \n",
      "A value is trying to be set on a copy of a slice from a DataFrame\n",
      "\n",
      "See the caveats in the documentation: http://pandas.pydata.org/pandas-docs/stable/indexing.html#indexing-view-versus-copy\n",
      "  import sys\n"
     ]
    }
   ],
   "source": [
    "# Decision Tree\n",
    "taxi_X_train_dt = get_input_matrix_dt(data)\n",
    "# For trip distance, you can calculate the average and use it as the threshold to create conditions.\n",
    "distMean = taxi_X_train_dt['trip_distance'].mean()\n",
    "for idx, row in taxi_X_train_dt.iterrows():\n",
    "\tif taxi_X_train_dt['trip_distance'][idx] < distMean:\n",
    "\t\ttaxi_X_train_dt['trip_distance'][idx] = 0\n",
    "\telse:\n",
    "\n",
    "\t\ttaxi_X_train_dt['trip_distance'][idx] = 1"
   ]
  },
  {
   "cell_type": "markdown",
   "metadata": {},
   "source": [
    "**Use 5-fold cross validation to evaluate your model.<br>\n",
    "Report precision, recall and F-score of the classification.**"
   ]
  },
  {
   "cell_type": "code",
   "execution_count": 36,
   "metadata": {},
   "outputs": [
    {
     "name": "stdout",
     "output_type": "stream",
     "text": [
      "             precision    recall  f1-score   support\n",
      "\n",
      "          0       0.63      0.95      0.76       334\n",
      "          1       0.97      0.73      0.83       666\n",
      "\n",
      "avg / total       0.86      0.80      0.81      1000\n",
      "\n"
     ]
    }
   ],
   "source": [
    "decisionTree = DecisionTreeClassifier()\n",
    "\n",
    "predicted = cross_val_predict(decisionTree, taxi_X_train_dt, taxi_Y_train, cv=5)\n",
    "print(metrics.classification_report(predicted, taxi_Y_train))"
   ]
  },
  {
   "cell_type": "markdown",
   "metadata": {},
   "source": [
    "### Since we randomly choose samples every time, we may get different metric reports. However, generally for this task, DecisionTreeClassifier gets higher precision and recall than KNN does. KNN gets higher F1-score."
   ]
  }
 ],
 "metadata": {
  "kernelspec": {
   "display_name": "Python 3",
   "language": "python",
   "name": "python3"
  },
  "language_info": {
   "codemirror_mode": {
    "name": "ipython",
    "version": 3
   },
   "file_extension": ".py",
   "mimetype": "text/x-python",
   "name": "python",
   "nbconvert_exporter": "python",
   "pygments_lexer": "ipython3",
   "version": "3.6.2"
  }
 },
 "nbformat": 4,
 "nbformat_minor": 2
}
